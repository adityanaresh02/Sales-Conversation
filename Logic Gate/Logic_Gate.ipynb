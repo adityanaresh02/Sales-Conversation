{
  "nbformat": 4,
  "nbformat_minor": 0,
  "metadata": {
    "colab": {
      "provenance": []
    },
    "kernelspec": {
      "name": "python3",
      "display_name": "Python 3"
    },
    "language_info": {
      "name": "python"
    }
  },
  "cells": [
    {
      "cell_type": "code",
      "source": [
        "import torch\n",
        "import torch.nn as nn\n",
        "import numpy as np\n",
        "\n",
        "# Device configuration\n",
        "device = torch.device('cuda' if torch.cuda.is_available() else 'cpu')\n",
        "\n",
        "# Hyper-parameters\n",
        "input_size = 2\n",
        "hidden_size = 2\n",
        "output_size = 1\n",
        "num_epochs = 1000\n",
        "learning_rate = 0.1\n",
        "\n",
        "# Logic Gate dataset (inputs and outputs)\n",
        "X_AND = np.array([[0, 0], [0, 1], [1, 0], [1, 1]])\n",
        "Y_AND = np.array([[0], [0], [0], [1]])\n",
        "\n",
        "X_OR = np.array([[0, 0], [0, 1], [1, 0], [1, 1]])\n",
        "Y_OR = np.array([[0], [1], [1], [1]])\n",
        "\n",
        "X_XOR = np.array([[0, 0], [0, 1], [1, 0], [1, 1]])\n",
        "Y_XOR = np.array([[0], [1], [1], [0]])\n",
        "\n",
        "# Choose a logic gate\n",
        "X = X_AND\n",
        "Y = Y_AND\n",
        "\n",
        "# Convert to tensors\n",
        "X = torch.from_numpy(X).float().to(device)\n",
        "Y = torch.from_numpy(Y).float().to(device)\n",
        "\n",
        "# Neural Network model\n",
        "class NeuralNet(nn.Module):\n",
        "    def __init__(self, input_size, hidden_size, output_size):\n",
        "        super(NeuralNet, self).__init__()\n",
        "        self.fc1 = nn.Linear(input_size, hidden_size)\n",
        "        self.relu = nn.ReLU()\n",
        "        self.fc2 = nn.Linear(hidden_size, output_size)\n",
        "\n",
        "    def forward(self, x):\n",
        "        out = self.fc1(x)\n",
        "        out = self.relu(out)\n",
        "        out = self.fc2(out)\n",
        "        return out\n",
        "\n",
        "model = NeuralNet(input_size, hidden_size, output_size).to(device)\n",
        "\n",
        "# Loss and optimizer\n",
        "criterion = nn.MSELoss()\n",
        "optimizer = torch.optim.SGD(model.parameters(), lr=learning_rate)\n",
        "\n",
        "# Training loop\n",
        "for epoch in range(num_epochs):\n",
        "    # Forward pass\n",
        "    outputs = model(X)\n",
        "    loss = criterion(outputs, Y)\n",
        "\n",
        "    # Backward and optimize\n",
        "    optimizer.zero_grad()\n",
        "    loss.backward()\n",
        "    optimizer.step()\n",
        "\n",
        "    if (epoch+1) % 100 == 0:\n",
        "        print (f'Epoch [{epoch+1}/{num_epochs}], Loss: {loss.item():.4f}')\n",
        "\n",
        "# Test the model\n",
        "model.eval()\n",
        "with torch.no_grad():\n",
        "    predicted = model(X)\n",
        "    predicted = predicted.round()\n",
        "    print(f'Predicted: {predicted}')\n",
        "    print(f'Actual: {Y}')"
      ],
      "metadata": {
        "colab": {
          "base_uri": "https://localhost:8080/"
        },
        "id": "h4uPjusySDlB",
        "outputId": "1fb255c2-2031-4ac2-f64e-9eeadac42e56"
      },
      "execution_count": 1,
      "outputs": [
        {
          "output_type": "stream",
          "name": "stdout",
          "text": [
            "Epoch [100/1000], Loss: 0.1799\n",
            "Epoch [200/1000], Loss: 0.1679\n",
            "Epoch [300/1000], Loss: 0.0638\n",
            "Epoch [400/1000], Loss: 0.0625\n",
            "Epoch [500/1000], Loss: 0.0625\n",
            "Epoch [600/1000], Loss: 0.0625\n",
            "Epoch [700/1000], Loss: 0.0625\n",
            "Epoch [800/1000], Loss: 0.0625\n",
            "Epoch [900/1000], Loss: 0.0625\n",
            "Epoch [1000/1000], Loss: 0.0625\n",
            "Predicted: tensor([[-0.],\n",
            "        [0.],\n",
            "        [0.],\n",
            "        [1.]])\n",
            "Actual: tensor([[0.],\n",
            "        [0.],\n",
            "        [0.],\n",
            "        [1.]])\n"
          ]
        }
      ]
    },
    {
      "cell_type": "code",
      "source": [
        "import matplotlib.pyplot as plt\n",
        "import numpy as np\n",
        "\n",
        "# Create a grid of input values\n",
        "x1 = np.linspace(0, 1, 100)\n",
        "x2 = np.linspace(0, 1, 100)\n",
        "X1, X2 = np.meshgrid(x1, x2)\n",
        "\n",
        "# Evaluate the model on the grid\n",
        "X = torch.from_numpy(np.column_stack((X1.ravel(), X2.ravel()))).float().to(device)\n",
        "with torch.no_grad():\n",
        "    outputs = model(X)\n",
        "    outputs = outputs.round()\n",
        "    outputs = outputs.cpu().numpy().reshape(X1.shape)\n",
        "\n",
        "# Plot the decision boundary\n",
        "plt.contourf(X1, X2, outputs, cmap='viridis')\n",
        "plt.colorbar()\n",
        "plt.xlabel('Input 1')\n",
        "plt.ylabel('Input 2')\n",
        "plt.title('Decision Boundary')\n",
        "plt.show()"
      ],
      "metadata": {
        "colab": {
          "base_uri": "https://localhost:8080/",
          "height": 472
        },
        "id": "-h2c7_XySK-l",
        "outputId": "697b9f55-f5b0-481a-c9a9-cc195c930014"
      },
      "execution_count": 2,
      "outputs": [
        {
          "output_type": "display_data",
          "data": {
            "text/plain": [
              "<Figure size 640x480 with 2 Axes>"
            ],
            "image/png": "[encoded data removed]"
          },
          "metadata": {}
        }
      ]
    }
  ]
}